{
 "cells": [
  {
   "cell_type": "code",
   "execution_count": 2,
   "id": "73efed55",
   "metadata": {},
   "outputs": [],
   "source": [
    "import re"
   ]
  },
  {
   "cell_type": "code",
   "execution_count": 6,
   "id": "fcbee9f9",
   "metadata": {},
   "outputs": [
    {
     "name": "stdout",
     "output_type": "stream",
     "text": [
      "UX/UI Design Bootcamp (Full-Time)ApplyHTML, User Experience Design, CSSIn PersonFull Time50 Hours/week9 Weeks Start Date January  7, 2019Cost$6,500Class size16LocationMiami, Madrid, Barcelona, Paris, Mexico City, BerlinThis 8 week immersive course is catered to beginners with no previous design or technical experience. Students will be taught the fundamentals of User Centered Design and learn to validate ideas through user research, rapid prototyping &amp; heuristic evaluation. The course will end with a capstone project where students will take a new product idea from validation to launch.\n"
     ]
    }
   ],
   "source": [
    "txt = 'UX/UI Design Bootcamp (Full-Time)ApplyHTML, User Experience Design, CSSIn PersonFull Time50 Hours/week9 Weeks Start Date January  7, 2019Cost$6,500Class size16LocationMiami, Madrid, Barcelona, Paris, Mexico City, BerlinThis 8 week immersive course is catered to beginners with no previous design or technical experience. Students will be taught the fundamentals of User Centered Design and learn to validate ideas through user research, rapid prototyping &amp; heuristic evaluation. The course will end with a capstone project where students will take a new product idea from validation to launch.'\n",
    "print(txt)"
   ]
  },
  {
   "cell_type": "code",
   "execution_count": 8,
   "id": "dfd5c5de",
   "metadata": {},
   "outputs": [
    {
     "name": "stdout",
     "output_type": "stream",
     "text": [
      "UX UI Design Bootcamp  Full Time ApplyHTML, User Experience Design, CSSIn PersonFull Time50 Hours week9 Weeks Start Date January  7, 2019Cost$6,500Class size16LocationMiami, Madrid, Barcelona, Paris, Mexico City, BerlinThis 8 week immersive course is catered to beginners with no previous design or technical experience  Students will be taught the fundamentals of User Centered Design and learn to validate ideas through user research, rapid prototyping &amp; heuristic evaluation  The course will end with a capstone project where students will take a new product idea from validation to launch \n"
     ]
    }
   ],
   "source": [
    "txt2 = re.sub(\"[-/().]\", \" \", txt)\n",
    "print(txt2)"
   ]
  },
  {
   "cell_type": "code",
   "execution_count": null,
   "id": "6f7a2168",
   "metadata": {},
   "outputs": [],
   "source": []
  }
 ],
 "metadata": {
  "kernelspec": {
   "display_name": "Python 3 (ipykernel)",
   "language": "python",
   "name": "python3"
  },
  "language_info": {
   "codemirror_mode": {
    "name": "ipython",
    "version": 3
   },
   "file_extension": ".py",
   "mimetype": "text/x-python",
   "name": "python",
   "nbconvert_exporter": "python",
   "pygments_lexer": "ipython3",
   "version": "3.9.7"
  }
 },
 "nbformat": 4,
 "nbformat_minor": 5
}
