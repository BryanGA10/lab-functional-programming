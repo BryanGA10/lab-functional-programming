{
 "cells": [
  {
   "cell_type": "markdown",
   "metadata": {},
   "source": [
    "In the cell below, create a Python function that wraps your previous solution for the Bag of Words lab.\n",
    "\n",
    "Requirements:\n",
    "\n",
    "1. Your function should accept the following parameters:\n",
    "    * `docs` [REQUIRED] - array of document paths.\n",
    "    * `stop_words` [OPTIONAL] - array of stop words. The default value is an empty array.\n",
    "\n",
    "1. Your function should return a Python object that contains the following:\n",
    "    * `bag_of_words` - array of strings of normalized unique words in the corpus.\n",
    "    * `term_freq` - array of the term-frequency vectors."
   ]
  },
  {
   "cell_type": "code",
   "execution_count": 30,
   "metadata": {},
   "outputs": [],
   "source": [
    "# Import required libraries\n",
    "\n",
    "import pandas as pd\n",
    "import numpy as np\n",
    "import re\n",
    "\n",
    "# Define function\n",
    "def get_bow_from_docs(docs, stop_words=[]):\n",
    "    \n",
    "    # In the function, first define the variables you will use such as `corpus`, `bag_of_words`, and `term_freq`.\n",
    "    \n",
    "    corpus = []\n",
    "    bag_of_words = []\n",
    "    term_freq = []\n",
    "    #stop_words = []\n",
    "    freq_sub = []\n",
    "    \n",
    "    \"\"\"\n",
    "    Loop `docs` and read the content of each doc into a string in `corpus`.\n",
    "    Remember to convert the doc content to lowercases and remove punctuation.\n",
    "    \"\"\"\n",
    "    \n",
    "    \n",
    "    for i in docs:\n",
    "        proof = list(pd.read_csv(f'/Users/bryangarcia/Documents/Git_bootcamp/string-operations/your-code/{i}'))\n",
    "        proof = ''.join(proof)\n",
    "        proof = proof.lower()\n",
    "        corpus.append(proof)\n",
    "        corpus = [re.sub('[^A-Za-z0-9 ]+','', i) for i in corpus]\n",
    "\n",
    "    \"\"\"\n",
    "    Loop `corpus`. Append the terms in each doc into the `bag_of_words` array. The terms in `bag_of_words` \n",
    "    should be unique which means before adding each term you need to check if it's already added to the array.\n",
    "    In addition, check if each term is in the `stop_words` array. Only append the term to `bag_of_words`\n",
    "    if it is not a stop word.\n",
    "    \"\"\"        \n",
    "    \n",
    "    for i in corpus:\n",
    "        corpus_sub = re.split(' ',i)\n",
    "        for si in corpus_sub:\n",
    "            if si not in bag_of_words and si not in stop_words:\n",
    "                bag_of_words.append(si)\n",
    "            \n",
    "    \n",
    "    \"\"\"\n",
    "    Loop `corpus` again. For each doc string, count the number of occurrences of each term in `bag_of_words`. \n",
    "    Create an array for each doc's term frequency and append it to `term_freq`.\n",
    "    \"\"\"\n",
    "    \n",
    "    for i in corpus:\n",
    "        corpus_sub = re.split(' ',i)\n",
    "        for i in bag_of_words:\n",
    "            if i in corpus_sub:\n",
    "                freq_sub.append(1)\n",
    "            else:\n",
    "                freq_sub.append(0)\n",
    "        term_freq.append(freq_sub)\n",
    "        freq_sub = []\n",
    "    \n",
    "    \n",
    "    # Now return your output as an object\n",
    "    return {\n",
    "        \"bag_of_words\": bag_of_words,\n",
    "        \"term_freq\": term_freq\n",
    "    }\n",
    "    "
   ]
  },
  {
   "cell_type": "markdown",
   "metadata": {},
   "source": [
    "Test your function without stop words. You should see the output like below:\n",
    "\n",
    "```{'bag_of_words': ['ironhack', 'is', 'cool', 'i', 'love', 'am', 'a', 'student', 'at'], 'term_freq': [[1, 1, 1, 0, 0, 0, 0, 0, 0], [1, 0, 0, 1, 1, 0, 0, 0, 0], [1, 0, 0, 1, 0, 1, 1, 1, 1]]}```"
   ]
  },
  {
   "cell_type": "code",
   "execution_count": 31,
   "metadata": {},
   "outputs": [
    {
     "name": "stdout",
     "output_type": "stream",
     "text": [
      "{'bag_of_words': ['ironhack', 'is', 'cool', 'i', 'love', 'am', 'a', 'student', 'at'], 'term_freq': [[1, 1, 1, 0, 0, 0, 0, 0, 0], [1, 0, 0, 1, 1, 0, 0, 0, 0], [1, 0, 0, 1, 0, 1, 1, 1, 1]]}\n"
     ]
    }
   ],
   "source": [
    "# Define doc paths array\n",
    "docs = ['doc1.txt', 'doc2.txt', 'doc3.txt']\n",
    "\n",
    "# Obtain BoW from your function\n",
    "bow = get_bow_from_docs(docs)\n",
    "\n",
    "# Print BoW\n",
    "print(bow)"
   ]
  },
  {
   "cell_type": "code",
   "execution_count": 32,
   "metadata": {},
   "outputs": [
    {
     "name": "stdout",
     "output_type": "stream",
     "text": [
      "{'bag_of_words': ['ironhack', 'cool', 'love', 'student'], 'term_freq': [[1, 1, 0, 0], [1, 0, 1, 0], [1, 0, 0, 1]]}\n"
     ]
    }
   ],
   "source": [
    "# Using the stop_words list from previous lab\n",
    "\n",
    "# Define doc paths array\n",
    "docs2 = ['doc1.txt', 'doc2.txt', 'doc3.txt']\n",
    "stop_words2 = ['all', 'six', 'less', 'being', 'indeed', 'over', 'move', 'anyway', 'fifty', 'four', 'not', 'own', 'through', 'yourselves', 'go', 'where', 'mill', 'only', 'find', 'before', 'one', 'whose', 'system', 'how', 'somewhere', 'with', 'thick', 'show', 'had', 'enough', 'should', 'to', 'must', 'whom', 'seeming', 'under', 'ours', 'has', 'might', 'thereafter', 'latterly', 'do', 'them', 'his', 'around', 'than', 'get', 'very', 'de', 'none', 'cannot', 'every', 'whether', 'they', 'front', 'during', 'thus', 'now', 'him', 'nor', 'name', 'several', 'hereafter', 'always', 'who', 'cry', 'whither', 'this', 'someone', 'either', 'each', 'become', 'thereupon', 'sometime', 'side', 'two', 'therein', 'twelve', 'because', 'often', 'ten', 'our', 'eg', 'some', 'back', 'up', 'namely', 'towards', 'are', 'further', 'beyond', 'ourselves', 'yet', 'out', 'even', 'will', 'what', 'still', 'for', 'bottom', 'mine', 'since', 'please', 'forty', 'per', 'its', 'everything', 'behind', 'un', 'above', 'between', 'it', 'neither', 'seemed', 'ever', 'across', 'she', 'somehow', 'be', 'we', 'full', 'never', 'sixty', 'however', 'here', 'otherwise', 'were', 'whereupon', 'nowhere', 'although', 'found', 'alone', 're', 'along', 'fifteen', 'by', 'both', 'about', 'last', 'would', 'anything', 'via', 'many', 'could', 'thence', 'put', 'against', 'keep', 'etc', 'amount', 'became', 'ltd', 'hence', 'onto', 'or', 'con', 'among', 'already', 'co', 'afterwards', 'formerly', 'within', 'seems', 'into', 'others', 'while', 'whatever', 'except', 'down', 'hers', 'everyone', 'done', 'least', 'another', 'whoever', 'moreover', 'couldnt', 'throughout', 'anyhow', 'yourself', 'three', 'from', 'her', 'few', 'together', 'top', 'there', 'due', 'been', 'next', 'anyone', 'eleven', 'much', 'call', 'therefore', 'interest', 'then', 'thru', 'themselves', 'hundred', 'was', 'sincere', 'empty', 'more', 'himself', 'elsewhere', 'mostly', 'on', 'fire', 'am', 'becoming', 'hereby', 'amongst', 'else', 'part', 'everywhere', 'too', 'herself', 'former', 'those', 'he', 'me', 'myself', 'made', 'twenty', 'these', 'bill', 'cant', 'us', 'until', 'besides', 'nevertheless', 'below', 'anywhere', 'nine', 'can', 'of', 'your', 'toward', 'my', 'something', 'and', 'whereafter', 'whenever', 'give', 'almost', 'wherever', 'is', 'describe', 'beforehand', 'herein', 'an', 'as', 'itself', 'at', 'have', 'in', 'seem', 'whence', 'ie', 'any', 'fill', 'again', 'hasnt', 'inc', 'thereby', 'thin', 'no', 'perhaps', 'latter', 'meanwhile', 'when', 'detail', 'same', 'wherein', 'beside', 'also', 'that', 'other', 'take', 'which', 'becomes', 'you', 'if', 'nobody', 'see', 'though', 'may', 'after', 'upon', 'most', 'hereupon', 'eight', 'but', 'serious', 'nothing', 'such', 'why', 'a', 'off', 'whereby', 'third', 'i', 'whole', 'noone', 'sometimes', 'well', 'amoungst', 'yours', 'their', 'rather', 'without', 'so', 'five', 'the', 'first', 'whereas', 'once']\n",
    "\n",
    "# Obtain BoW from your function\n",
    "bow2 = get_bow_from_docs(docs2, stop_words2)\n",
    "\n",
    "# Print BoW\n",
    "print(bow2)"
   ]
  },
  {
   "cell_type": "markdown",
   "metadata": {},
   "source": [
    "If your attempt above is successful, nice work done!\n",
    "\n",
    "Now test your function again with the stop words. In the previous lab we defined the stop words in a large array. In this lab, we'll import the stop words from Scikit-Learn."
   ]
  },
  {
   "cell_type": "code",
   "execution_count": 26,
   "metadata": {},
   "outputs": [
    {
     "name": "stdout",
     "output_type": "stream",
     "text": [
      "frozenset({'perhaps', 'next', 'sixty', 'thin', 'before', 'if', 'somehow', 'was', 'everywhere', 'whereby', 'herein', 'who', 'etc', 'thus', 'into', 'our', 'how', 'system', 'might', 'to', 'ltd', 'own', 'together', 'toward', 'indeed', 'became', 'anything', 'nor', 'their', 'without', 'thru', 'at', 'so', 'out', 'full', 'or', 'nowhere', 'again', 'mill', 'already', 'serious', 'empty', 'ourselves', 'below', 'seem', 'around', 'once', 'inc', 'latter', 'whereupon', 'over', 'hers', 'back', 'often', 'himself', 'least', 'the', 'onto', 'throughout', 'an', 'as', 'detail', 're', 'because', 'cannot', 'hereby', 'most', 'had', 'been', 'con', 'would', 'nobody', 'them', 'top', 'beside', 'everything', 'beforehand', 'however', 'via', 'third', 'cry', 'which', 'behind', 'its', 'else', 'whatever', 'too', 'take', 'more', 'whenever', 'nothing', 'namely', 'yet', 'wherever', 'neither', 'up', 'always', 'anywhere', 'yourself', 'still', 'all', 'rather', 'thereafter', 'against', 'thence', 'interest', 'four', 'anyway', 'hence', 'other', 'whereas', 'thereby', 'twenty', 'find', 'hereupon', 'please', 'have', 'may', 'am', 'fifty', 'about', 'whom', 'along', 'though', 'never', 'between', 'part', 'will', 'eg', 'latterly', 'couldnt', 'put', 'keep', 'noone', 'amongst', 'ten', 'anyhow', 'us', 'whereafter', 'somewhere', 'see', 'of', 'what', 'otherwise', 'these', 'thick', 'mostly', 'whether', 'why', 'formerly', 'get', 'myself', 'in', 'much', 'due', 'none', 'being', 'ie', 'two', 'very', 'whoever', 'through', 'some', 'same', 'those', 'could', 'where', 'forty', 'her', 'three', 'many', 'side', 'since', 'although', 'we', 'bill', 'also', 'call', 'not', 'seeming', 'becoming', 'de', 'when', 'done', 'off', 'few', 'beyond', 'sincere', 'almost', 'move', 'a', 'no', 'whose', 'his', 'mine', 'eleven', 'hereafter', 'your', 'fill', 'sometimes', 'both', 'above', 'within', 'ours', 'by', 'twelve', 'well', 'describe', 'anyone', 'from', 'you', 'therefore', 'amount', 'whither', 'they', 'after', 'co', 'fifteen', 'any', 'she', 'should', 'give', 'has', 'nine', 'are', 'each', 'were', 'go', 'found', 'therein', 'while', 'that', 'towards', 'per', 'others', 'nevertheless', 'here', 'is', 'it', 'me', 'afterwards', 'upon', 'yourselves', 'another', 'bottom', 'enough', 'fire', 'only', 'itself', 'besides', 'among', 'do', 'elsewhere', 'one', 'six', 'name', 'first', 'everyone', 'ever', 'show', 'until', 'alone', 'un', 'hasnt', 'under', 'either', 'there', 'except', 'themselves', 'than', 'sometime', 'wherein', 'thereupon', 'on', 'front', 'across', 'amoungst', 'becomes', 'be', 'less', 'even', 'yours', 'this', 'become', 'seems', 'but', 'herself', 'further', 'five', 'made', 'seemed', 'cant', 'last', 'my', 'he', 'eight', 'whole', 'someone', 'every', 'down', 'then', 'such', 'during', 'him', 'something', 'former', 'must', 'now', 'whence', 'moreover', 'and', 'hundred', 'i', 'for', 'several', 'meanwhile', 'can', 'with'})\n"
     ]
    }
   ],
   "source": [
    "from sklearn.feature_extraction import _stop_words\n",
    "print(_stop_words.ENGLISH_STOP_WORDS)"
   ]
  },
  {
   "cell_type": "markdown",
   "metadata": {},
   "source": [
    "You should have seen a large list of words that looks like:\n",
    "\n",
    "```frozenset({'across', 'mine', 'cannot', ...})```\n",
    "\n",
    "`frozenset` is a type of Python object that is immutable. In this lab you can use it just like an array without conversion."
   ]
  },
  {
   "cell_type": "markdown",
   "metadata": {},
   "source": [
    "Next, test your function with supplying `stop_words.ENGLISH_STOP_WORDS` as the second parameter."
   ]
  },
  {
   "cell_type": "code",
   "execution_count": 33,
   "metadata": {},
   "outputs": [
    {
     "name": "stdout",
     "output_type": "stream",
     "text": [
      "{'bag_of_words': ['ironhack', 'cool', 'love', 'student'], 'term_freq': [[1, 1, 0, 0], [1, 0, 1, 0], [1, 0, 0, 1]]}\n"
     ]
    }
   ],
   "source": [
    "bow3 = get_bow_from_docs(docs, _stop_words.ENGLISH_STOP_WORDS)\n",
    "\n",
    "print(bow3)"
   ]
  },
  {
   "cell_type": "markdown",
   "metadata": {},
   "source": [
    "You should have seen:\n",
    "\n",
    "```{'bag_of_words': ['ironhack', 'cool', 'love', 'student'], 'term_freq': [[1, 1, 0, 0], [1, 0, 1, 0], [1, 0, 0, 1]]}```"
   ]
  }
 ],
 "metadata": {
  "kernelspec": {
   "display_name": "Python 3 (ipykernel)",
   "language": "python",
   "name": "python3"
  },
  "language_info": {
   "codemirror_mode": {
    "name": "ipython",
    "version": 3
   },
   "file_extension": ".py",
   "mimetype": "text/x-python",
   "name": "python",
   "nbconvert_exporter": "python",
   "pygments_lexer": "ipython3",
   "version": "3.9.7"
  }
 },
 "nbformat": 4,
 "nbformat_minor": 2
}
